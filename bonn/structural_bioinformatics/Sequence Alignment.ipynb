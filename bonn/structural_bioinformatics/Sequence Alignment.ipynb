{
 "cells": [
  {
   "cell_type": "markdown",
   "metadata": {},
   "source": [
    "# Structural Bioinformatics WS1516\n",
    "## Global Sequence Alignment Implementation\n",
    "**Author**: Charlie Hoyt\n",
    "\n",
    "**Date**: 18 Jan 2016\n",
    "\n",
    "This notebook outlines the implemention of the [Needleman-Wunsch](https://en.wikipedia.org/wiki/Needleman%E2%80%93Wunsch_algorithm) algorithm to perform a global alignment on sequence fragments from hemoglobin and myoglobin. It makes use of the [BLOSUM40](ftp://ftp.ncbi.nih.gov/blast/matrices/BLOSUM40) scoring matrix from the NCBI for sequence alignments.\n",
    "\n",
    "\n",
    "### BLOSUM40 notes from the NCBI:\n",
    "- Matrix made by matblas from blosum40.iij\n",
    "- column uses minimum score\n",
    "- BLOSUM Clustered Scoring Matrix in 1/4 Bit Units\n",
    "- Blocks Database = /data/blocks_5.0/blocks.dat\n",
    "- Cluster Percentage: >= 40\n",
    "- Entropy =   0.2851, Expected =  -0.2090"
   ]
  },
  {
   "cell_type": "code",
   "execution_count": 1,
   "metadata": {
    "collapsed": false
   },
   "outputs": [],
   "source": [
    "blosum40_data = \"\"\"\n",
    "A  R  N  D  C  Q  E  G  H  I  L  K  M  F  P  S  T  W  Y  V  B  Z  X  *\n",
    "A  5 -2 -1 -1 -2  0 -1  1 -2 -1 -2 -1 -1 -3 -2  1  0 -3 -2  0 -1 -1  0 -6 \n",
    "R -2  9  0 -1 -3  2 -1 -3  0 -3 -2  3 -1 -2 -3 -1 -2 -2 -1 -2 -1  0 -1 -6 \n",
    "N -1  0  8  2 -2  1 -1  0  1 -2 -3  0 -2 -3 -2  1  0 -4 -2 -3  4  0 -1 -6 \n",
    "D -1 -1  2  9 -2 -1  2 -2  0 -4 -3  0 -3 -4 -2  0 -1 -5 -3 -3  6  1 -1 -6 \n",
    "C -2 -3 -2 -2 16 -4 -2 -3 -4 -4 -2 -3 -3 -2 -5 -1 -1 -6 -4 -2 -2 -3 -2 -6 \n",
    "Q  0  2  1 -1 -4  8  2 -2  0 -3 -2  1 -1 -4 -2  1 -1 -1 -1 -3  0  4 -1 -6 \n",
    "E -1 -1 -1  2 -2  2  7 -3  0 -4 -2  1 -2 -3  0  0 -1 -2 -2 -3  1  5 -1 -6 \n",
    "G  1 -3  0 -2 -3 -2 -3  8 -2 -4 -4 -2 -2 -3 -1  0 -2 -2 -3 -4 -1 -2 -1 -6 \n",
    "H -2  0  1  0 -4  0  0 -2 13 -3 -2 -1  1 -2 -2 -1 -2 -5  2 -4  0  0 -1 -6 \n",
    "I -1 -3 -2 -4 -4 -3 -4 -4 -3  6  2 -3  1  1 -2 -2 -1 -3  0  4 -3 -4 -1 -6 \n",
    "L -2 -2 -3 -3 -2 -2 -2 -4 -2  2  6 -2  3  2 -4 -3 -1 -1  0  2 -3 -2 -1 -6 \n",
    "K -1  3  0  0 -3  1  1 -2 -1 -3 -2  6 -1 -3 -1  0  0 -2 -1 -2  0  1 -1 -6 \n",
    "M -1 -1 -2 -3 -3 -1 -2 -2  1  1  3 -1  7  0 -2 -2 -1 -2  1  1 -3 -2  0 -6 \n",
    "F -3 -2 -3 -4 -2 -4 -3 -3 -2  1  2 -3  0  9 -4 -2 -1  1  4  0 -3 -4 -1 -6 \n",
    "P -2 -3 -2 -2 -5 -2  0 -1 -2 -2 -4 -1 -2 -4 11 -1  0 -4 -3 -3 -2 -1 -2 -6 \n",
    "S  1 -1  1  0 -1  1  0  0 -1 -2 -3  0 -2 -2 -1  5  2 -5 -2 -1  0  0  0 -6 \n",
    "T  0 -2  0 -1 -1 -1 -1 -2 -2 -1 -1  0 -1 -1  0  2  6 -4 -1  1  0 -1  0 -6 \n",
    "W -3 -2 -4 -5 -6 -1 -2 -2 -5 -3 -1 -2 -2  1 -4 -5 -4 19  3 -3 -4 -2 -2 -6 \n",
    "Y -2 -1 -2 -3 -4 -1 -2 -3  2  0  0 -1  1  4 -3 -2 -1  3  9 -1 -3 -2 -1 -6 \n",
    "V  0 -2 -3 -3 -2 -3 -3 -4 -4  4  2 -2  1  0 -3 -1  1 -3 -1  5 -3 -3 -1 -6 \n",
    "B -1 -1  4  6 -2  0  1 -1  0 -3 -3  0 -3 -3 -2  0  0 -4 -3 -3  5  2 -1 -6 \n",
    "Z -1  0  0  1 -3  4  5 -2  0 -4 -2  1 -2 -4 -1  0 -1 -2 -2 -3  2  5 -1 -6 \n",
    "X  0 -1 -1 -1 -2 -1 -1 -1 -1 -1 -1 -1  0 -1 -2  0  0 -2 -1 -1 -1 -1 -1 -6 \n",
    "* -6 -6 -6 -6 -6 -6 -6 -6 -6 -6 -6 -6 -6 -6 -6 -6 -6 -6 -6 -6 -6 -6 -6  1\"\"\"\n",
    "blosum40_data = iter(blosum40_data.strip().split(\"\\n\"))\n",
    "header = next(blosum40_data).split()\n",
    "blosum40 = {}\n",
    "for line in blosum40_data:\n",
    "    row_index, *row_data = line.split()\n",
    "    for column, row_datum in zip(header, row_data):\n",
    "        blosum40[row_index, column] = int(row_datum)"
   ]
  },
  {
   "cell_type": "code",
   "execution_count": 15,
   "metadata": {
    "collapsed": false
   },
   "outputs": [],
   "source": [
    "import numpy as np\n",
    "\n",
    "def align(a, b, s, gap=-2):    \n",
    "    \"\"\"Prints the alignment of string a and b\"\"\"\n",
    "    \n",
    "    \"\"\"\n",
    "    scores\n",
    "    At position scores[i,j], this matrix stores the maximum score for\n",
    "    choosing the best of matching, inserting, or deleting. This \n",
    "    allows for memoizing of smaller cases and alows this algorithm\n",
    "    to make use of the dynamic programming paradigm\n",
    "    \"\"\"\n",
    "    scores = np.zeros((len(a) + 1, len(b) + 1), dtype=int)\n",
    "    \n",
    "    \"\"\"\n",
    "    breadcrumbs\n",
    "    At each step, the algorithm chooses the maximum of matching, \n",
    "    inserting, or deleting. The breadcrumbts stores for element (i,j) \n",
    "    the tuple representing the location of the maximum, at either:\n",
    "    (i-1,j-1), (i-1,j), or (i,j-1)\n",
    "    \n",
    "    \"\"\"\n",
    "    breadcrumbs = {}\n",
    "    \n",
    "    # initialization\n",
    "    for i in range(len(a) + 1):\n",
    "        scores[i, 0] = gap * i\n",
    "        breadcrumbs[i, 0] = (i - 1, 0)\n",
    "    for j in range(len(b) + 1):\n",
    "        scores[0, j] = gap * j\n",
    "        breadcrumbs[0, j] = (0, j - 1)\n",
    "    \n",
    "    # calculation of optimal substructures\n",
    "    for i, a_char in enumerate(a, start=1):\n",
    "        for j, b_char in enumerate(b, start=1):\n",
    "            # apply recurrence in order of match, insertion, deletion\n",
    "            recurrences = {\n",
    "                (i - 1, j - 1) : scores[i - 1, j - 1] + s[a_char, b_char],\n",
    "                (i - 1, j)     : scores[i - 1, j] + gap, \n",
    "                (i, j - 1)     : scores[i, j - 1] + gap \n",
    "            }\n",
    "            # store the position of the highest score for backtracking\n",
    "            breadcrumbs[i, j] = max(recurrences, key=recurrences.get)\n",
    "            # store the highest score for higher recurrences\n",
    "            scores[i, j] = recurrences[breadcrumbs[i, j]]\n",
    "    \n",
    "    fmt = \"Input\\nA:{} {}\\nB:{} {}\\n\\nScores\\n{}\\n\\nBreadcrumbs\"\n",
    "    #print(fmt.format(a, len(a), b, len(b), scores))\n",
    "    \n",
    "    \"\"\"\n",
    "    Now that the results have been built, they need to be assembled.\n",
    "    This makes use of the breadcrumbs by first looking at the final\n",
    "    position (where the score is necessarily the highest), and backtracking.\n",
    "    Because the algorithm is backtracking, it builds the aligned strings\n",
    "    backwards and they are ultimately reversed before printing.\n",
    "    \n",
    "    Through each iteration, the current position (a_current, b_current) is\n",
    "    compared to the previous position stored in the breadcrumbs at\n",
    "    breadcrumbs[a_current, b_current]. The type of match is calculated, and\n",
    "    the appropriate character is concatenated to the alignment strings,\n",
    "    sa, and sb. \n",
    "    \"\"\"\n",
    "    # initialization\n",
    "    a_aligned, b_aligned = \"\", \"\"\n",
    "    a_current, b_current = len(a), len(b)\n",
    "    \n",
    "    # back-tracking\n",
    "    while 0 != a_current or 0 != b_current:\n",
    "        a_predecessor, b_predecessor = breadcrumbs[a_current, b_current]\n",
    "        if a_current - 1 == a_predecessor and b_current - 1 == b_predecessor:\n",
    "            #print(\"M \", end=\"\") # matching\n",
    "            a_aligned += a[a_predecessor]\n",
    "            b_aligned += b[b_predecessor]\n",
    "        elif a_current - 1 == a_predecessor and b_current == b_predecessor:\n",
    "            #print(\"I \", end=\"\") # insertion\n",
    "            a_aligned += a[a_predecessor]\n",
    "            b_aligned += \"-\"\n",
    "        elif a_current == a_predecessor and b_current - 1 == b_predecessor:\n",
    "            #print(\"D \", end=\"\") # deletion\n",
    "            a_aligned += \"-\"\n",
    "            b_aligned += b[b_predecessor]\n",
    "            \n",
    "        #print(\"({},{}) => ({},{})\".format(a_current, b_current, a_predecessor, b_predecessor))\n",
    "        a_current, b_current = a_predecessor, b_predecessor\n",
    "    \n",
    "    a_aligned = a_aligned[::-1]\n",
    "    b_aligned = b_aligned[::-1]\n",
    "    #print(\"\\nAlignment\\n{}\\n{}\".format(a_aligned, b_aligned))\n",
    "    return scores[len(a), len(b)]"
   ]
  },
  {
   "cell_type": "code",
   "execution_count": 16,
   "metadata": {
    "collapsed": false
   },
   "outputs": [
    {
     "data": {
      "text/plain": [
       "16"
      ]
     },
     "execution_count": 16,
     "metadata": {},
     "output_type": "execute_result"
    }
   ],
   "source": [
    "s = {\n",
    "    ('A','A'): 10,\n",
    "    ('A','G'): -1,\n",
    "    ('A','C'): -3,\n",
    "    ('A','T'): -4,\n",
    "    ('G','A'): -1,\n",
    "    ('G','G'): 7,\n",
    "    ('G','C'): -5,\n",
    "    ('G','T'): -3,\n",
    "    ('C','A'): -3,\n",
    "    ('C','G'): -5,\n",
    "    ('C','C'): 9,\n",
    "    ('C','T'): 0,\n",
    "    ('T','A'): -4,\n",
    "    ('T','G'): -3,\n",
    "    ('T','C'): 0,\n",
    "    ('T','T'): 8\n",
    "}\n",
    "align(\"AGACTAGTTAC\", \"CGAGACGT\", s, gap=-5)"
   ]
  },
  {
   "cell_type": "code",
   "execution_count": 17,
   "metadata": {
    "collapsed": false
   },
   "outputs": [
    {
     "data": {
      "text/plain": [
       "-21"
      ]
     },
     "execution_count": 17,
     "metadata": {},
     "output_type": "execute_result"
    }
   ],
   "source": [
    "hemoglobin = \"KTEAEMKASEDLKKHGT\"\n",
    "myoglobin = \"HGSAQVKGHG\"\n",
    "align(hemoglobin, myoglobin, blosum40, gap=-8)"
   ]
  },
  {
   "cell_type": "code",
   "execution_count": 18,
   "metadata": {
    "collapsed": false
   },
   "outputs": [
    {
     "data": {
      "text/plain": [
       "26"
      ]
     },
     "execution_count": 18,
     "metadata": {},
     "output_type": "execute_result"
    }
   ],
   "source": [
    "s = {\n",
    "    ('A','A'): 5,\n",
    "    ('A','R'): -2,\n",
    "    ('A','N'): -1,\n",
    "    ('A','D'): -2,\n",
    "    ('R','A'): -2,\n",
    "    ('R','R'): 7,\n",
    "    ('R','N'): -1,\n",
    "    ('R','D'): -2,\n",
    "    ('N','A'): -1,\n",
    "    ('N','R'): -1,\n",
    "    ('N','N'): 7,\n",
    "    ('N','D'): 2,\n",
    "    ('D','A'): -2,\n",
    "    ('D','R'): -2,\n",
    "    ('D','N'): 2,\n",
    "    ('D','D'): 8\n",
    "}\n",
    "align(\"DRDANND\", \"ARDNRND\", s, gap=-10)"
   ]
  }
 ],
 "metadata": {
  "kernelspec": {
   "display_name": "Python 3",
   "language": "python",
   "name": "python3"
  },
  "language_info": {
   "codemirror_mode": {
    "name": "ipython",
    "version": 3
   },
   "file_extension": ".py",
   "mimetype": "text/x-python",
   "name": "python",
   "nbconvert_exporter": "python",
   "pygments_lexer": "ipython3",
   "version": "3.5.1"
  }
 },
 "nbformat": 4,
 "nbformat_minor": 0
}
