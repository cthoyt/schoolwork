{
 "cells": [
  {
   "cell_type": "markdown",
   "metadata": {},
   "source": [
    "# Assessment of Secondary Structure Prediction\n",
    "**Author:** Charles Hoyt, LSI, B-IT, University of Bonn\n",
    "\n",
    "**Goal:** Assess the quality of [`PSIPRED`](http://bioinf.cs.ucl.ac.uk/psipred/) and [`JPred`](http://www.compbio.dundee.ac.uk/jpred/) in comparison to secondary structure calculations from [MOE](https://www.chemcomp.com/MOE-Molecular_Operating_Environment.htm) on PDB Structure [1XP0](www.pdb.org/pdb/explore/explore.do?structureId=1XP0) . \n",
    "\n",
    "## Raw Data\n",
    "The data from MOE was calculated and transcribed (by hand). `PSIPRED` and `JPred` were both used to predict the secondary structure of 1XP0 given its FASTA sequence."
   ]
  },
  {
   "cell_type": "code",
   "execution_count": 1,
   "metadata": {
    "collapsed": false
   },
   "outputs": [],
   "source": [
    "moe     = \"\"\"--HHHHHHHHHHH-----HHHHTTT-TT---TT--HHHHHHHHHHHHHHTTHHHHTT--HHHHHHHHHHHHHT--TT-----HHHHHHHHHHHHHHHHTT--HHH--HHHHHHHHHHHHHTTTT-----HHHHHHTT-HHHHHTTT--HHHHHHHHHHHHHHT-TT--TTTT--HHHHHHHHHHHHHHHHHT-HHHHHHHHHHHHHHHHTT---TT-HHHHHHHHHHHHHHHHTHHHH--HHHHHHHHHHHHHHHHHHHHHHHHHT-----HHH-HHHHHHHHHHHHHHHHHTTHHHHHHHHHH-HHHHHHHHHHHHHHHHHHHHT--\"\"\"\n",
    "psipred = \"\"\"----HHHHHHHHH-----------------------HHHHHHHHHHHHHH---------HHHHHHHHHHH-------------HHHH-HHHHHHHHHH---HHHHHHHHHHHHHHHHHHHH---------HHHHH---HHHHH-----HHHHHHHHHHHHHH------------HHHHHHHHHHHHHHHHHHHHHHHHHHHHHHHHHHHH---------HHHHHHHHHHHHHH--------HHHHHHHHHHHHHH----HHHHHH---------------------HHHHHHHHHHHHHHHHHH----HHHHHHHHHHHHHHHHHHHH\"\"\"\n",
    "jpred   = \"\"\"-E--HHHHHHH-------HHH----------------HHHHHHHHHHHH----------HHHHHHHHHHHHHH---------HHHHHHHHHHHHHHHHH---------HHHHHHHHHHHHH---------HHHHHH---HHHH-----HHHHHHHHHHHHHH------------HHHHHHHHHHHHHHHHHHHHHHHHHHHHHHHHHHH-----------HHHHHHHHHHH---------HHHHHHHHHHHHHHHHHHHHHHHHH-------------------HHHHHHHHHHHHHHHHHHHH---HHHHHHHHHHHHHHHHHHHHH\"\"\" "
   ]
  },
  {
   "cell_type": "markdown",
   "metadata": {},
   "source": [
    "## Preprocessing of Data\n",
    "Sensitivity, Specificity, F1, and Matthew's Correlation Coefficient are all measured applied to binary classifications, they must be modified to fit the ternary classification of protein secondary structure. In this analysis, the presence of a secondary structure (alpha helix or beta sheet) is considered a positive result, while the absence of secondary structure (a random coil) is considered a negative result.\n",
    "\n",
    "Additionally, MOE calculates turns and denotes them as `T`. In this analysis, these are taken as random coils."
   ]
  },
  {
   "cell_type": "code",
   "execution_count": 2,
   "metadata": {
    "collapsed": true
   },
   "outputs": [],
   "source": [
    "jpred = jpred.replace(\"E\", \"H\")\n",
    "\n",
    "moe = moe.replace(\"T\", \"-\")"
   ]
  },
  {
   "cell_type": "markdown",
   "metadata": {},
   "source": [
    "## Tabulation of [Confusion Matrix](https://en.wikipedia.org/wiki/Confusion_matrix)\n",
    "The confusion matrix tabulates the discrepencies between the actual result (from MOE) and the predicted results.\n",
    "\n",
    "It can also be calculated using [SciKit Learn](http://scikit-learn.org/stable/modules/model_evaluation.html#confusion-matrix) and more advanced statistics can be calculated on confusion matricies larger than 2x2 with SciKit's [Classification Report](http://scikit-learn.org/stable/modules/model_evaluation.html#classification-report)\n"
   ]
  },
  {
   "cell_type": "code",
   "execution_count": 3,
   "metadata": {
    "collapsed": false
   },
   "outputs": [
    {
     "name": "stdout",
     "output_type": "stream",
     "text": [
      "PSIPRED tp 187 tn 84 fp 13 fn 44\n",
      "JPred   tp 191 tn 85 fp 12 fn 40\n"
     ]
    }
   ],
   "source": [
    "p_fn, p_fp, p_tp, p_tn = 0, 0, 0, 0\n",
    "j_fn, j_fp, j_tp, j_tn = 0, 0, 0, 0\n",
    "\n",
    "for m, p, j in zip(moe, psipred, jpred):\n",
    "    # Statistics over the PSIPRED Data\n",
    "    if m == 'H' and p == '-':\n",
    "        p_fn += 1\n",
    "    if m == '-' and p == 'H':\n",
    "        p_fp += 1\n",
    "    if m == 'H' and p == 'H':\n",
    "        p_tp += 1\n",
    "    if m == '-' and p == '-':\n",
    "        p_tn += 1   \n",
    "    \n",
    "    # Statistics over the JPred Data\n",
    "    if m == 'H' and j == '-':\n",
    "        j_fn += 1\n",
    "    if m == '-' and j == 'H':\n",
    "        j_fp += 1\n",
    "    if m == 'H' and j == 'H':\n",
    "        j_tp += 1\n",
    "    if m == '-' and j == '-':\n",
    "        j_tn += 1\n",
    "        \n",
    "print(\"PSIPRED tp {} tn {} fp {} fn {}\".format(p_tp, p_tn, p_fp, p_fn))    \n",
    "print(\"JPred   tp {} tn {} fp {} fn {}\".format(j_tp, j_tn, j_fp, j_fn))"
   ]
  },
  {
   "cell_type": "markdown",
   "metadata": {},
   "source": [
    "## Sensitivity\n",
    "\n",
    "Sensitivity measures the proportion of correctly identified positive values. In this example, positives are helicies. It is calculated by:\n",
    "\n",
    "$Sensitivity=\\dfrac{TP}{P}=\\dfrac{TP}{TP+FN}$"
   ]
  },
  {
   "cell_type": "code",
   "execution_count": 4,
   "metadata": {
    "collapsed": false
   },
   "outputs": [
    {
     "name": "stdout",
     "output_type": "stream",
     "text": [
      "Method\tSensitivity\n",
      "PSIPRED\t80.95%\n",
      "JPred\t82.68%\n"
     ]
    }
   ],
   "source": [
    "p_sens = p_tp / (p_tp + p_fn)\n",
    "j_sens = j_tp / (j_tp + j_fn)\n",
    "\n",
    "print(\"Method\\tSensitivity\\nPSIPRED\\t{:.2%}\\nJPred\\t{:.2%}\".format(p_sens,j_sens))"
   ]
  },
  {
   "cell_type": "markdown",
   "metadata": {},
   "source": [
    "## Specificity\n",
    "Specifity measures the proportion of correctly identified negative values. In this example, negatives are coils. It is calculated by:\n",
    "\n",
    "$Specificity=\\dfrac{TN}{N}=\\dfrac{TN}{TN+FP}$"
   ]
  },
  {
   "cell_type": "code",
   "execution_count": 5,
   "metadata": {
    "collapsed": false
   },
   "outputs": [
    {
     "name": "stdout",
     "output_type": "stream",
     "text": [
      "Method\tSpecificity\n",
      "PSIPRED\t86.60%\n",
      "JPred\t87.63%\n"
     ]
    }
   ],
   "source": [
    "p_spec = p_tn / (p_tn + p_fp)\n",
    "j_spec = j_tn / (j_tn + j_fp)\n",
    "\n",
    "print(\"Method\\tSpecificity\\nPSIPRED\\t{:.2%}\\nJPred\\t{:.2%}\".format(p_spec,j_spec))"
   ]
  },
  {
   "cell_type": "markdown",
   "metadata": {},
   "source": [
    "## F1 Score\n",
    "F1 Score is the harmonic mean of sensitivity and specificity. It is a good \"average\" that can be reported easily. It is calculated by:\n",
    "\n",
    "$F1=\\dfrac{2*TP}{2*TP+FP+FN}$"
   ]
  },
  {
   "cell_type": "code",
   "execution_count": 6,
   "metadata": {
    "collapsed": false
   },
   "outputs": [
    {
     "name": "stdout",
     "output_type": "stream",
     "text": [
      "Method\tF1\n",
      "PSIPRED\t86.77%\n",
      "JPred\t88.02%\n"
     ]
    }
   ],
   "source": [
    "p_f1 = 2 * p_tp / (2 * p_tp + p_fp + p_fn)\n",
    "j_f1 = 2 * j_tp / (2 * j_tp + j_fp + j_fn)\n",
    "\n",
    "print(\"Method\\tF1\\nPSIPRED\\t{:.2%}\\nJPred\\t{:.2%}\".format(p_f1, j_f1))"
   ]
  },
  {
   "cell_type": "markdown",
   "metadata": {},
   "source": [
    "## Matthew's Correlation Coefficient\n",
    "The Matthew's Correlation Coefficient additionally takes both TP and TN into account. It is calculated by:\n",
    "\n",
    "$MCC=\\dfrac{TP*TN-FP*FN}{\\sqrt{(TP+FP)*(TP+FN)*(TN+FN)*(TN+FN)}}$"
   ]
  },
  {
   "cell_type": "code",
   "execution_count": 7,
   "metadata": {
    "collapsed": false
   },
   "outputs": [
    {
     "name": "stdout",
     "output_type": "stream",
     "text": [
      "Method\tMCC\n",
      "PSIPRED\t55.01%\n",
      "JPred\t58.20%\n"
     ]
    }
   ],
   "source": [
    "from math import sqrt\n",
    "p_mcc = (p_tp * p_tn - p_fp * p_fn) / sqrt((p_tp + p_fp) * (p_tp + p_fn) * (p_tn + p_fn) * (p_tn + p_fn))\n",
    "j_mcc = (j_tp * j_tn - j_fp * j_fn) / sqrt((j_tp + j_fp) * (j_tp + j_fn) * (j_tn + j_fn) * (j_tn + j_fn))\n",
    "\n",
    "print(\"Method\\tMCC\\nPSIPRED\\t{:.2%}\\nJPred\\t{:.2%}\".format(p_mcc, j_mcc))"
   ]
  },
  {
   "cell_type": "markdown",
   "metadata": {},
   "source": [
    "## Conclusions\n",
    "\n",
    "Each of the sensitivity, specificity, F1, and Matthew's Correlation coefficient of the `JPred` methods were better for PDB 1XP0. Both `PSIPRED` and `JPred` were successful at identifying regions of helicies, but were often erroneous in their lengths.\n",
    "\n",
    "This analysis represents a simple case - for other proteins with folds that are not all-alpha, this type of analysis will be slightly more complicated. These prediction methods may also have different performance on proteins of different folds. Ultimately, the results from comparisons to 1XP0 can be contextualized with the results of the WS1516 Structural Bioinformatics class on a wide variety of proteins.\n",
    "\n",
    "## References\n",
    "* https://en.wikipedia.org/wiki/Sensitivity_and_specificity"
   ]
  }
 ],
 "metadata": {
  "kernelspec": {
   "display_name": "Python 3",
   "language": "python",
   "name": "python3"
  },
  "language_info": {
   "codemirror_mode": {
    "name": "ipython",
    "version": 3
   },
   "file_extension": ".py",
   "mimetype": "text/x-python",
   "name": "python",
   "nbconvert_exporter": "python",
   "pygments_lexer": "ipython3",
   "version": "3.5.1"
  }
 },
 "nbformat": 4,
 "nbformat_minor": 0
}
