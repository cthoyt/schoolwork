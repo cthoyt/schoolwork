{
 "metadata": {
  "name": "",
  "signature": "sha256:1bb04919cb53eaa87c08d5f384cb13dc36b7c72121b3b15c3e0e2ba17b24e677"
 },
 "nbformat": 3,
 "nbformat_minor": 0,
 "worksheets": [
  {
   "cells": [
    {
     "cell_type": "code",
     "collapsed": false,
     "input": [
      "import numpy as np\n",
      "import scipy.stats\n",
      "import matplotlib.pyplot as plt\n",
      "%matplotlib inline"
     ],
     "language": "python",
     "metadata": {},
     "outputs": [],
     "prompt_number": 4
    },
    {
     "cell_type": "markdown",
     "metadata": {},
     "source": [
      "#Problem 5"
     ]
    },
    {
     "cell_type": "code",
     "collapsed": false,
     "input": [
      "p5_raw = \"\"\"\n",
      "67.4 81.8 106.5 53.5 122.8 71.6 71.4 73.1 100.5 63.9 74.6 72.5 81.1 115.8 47.9 68.1 55.3 61.2 \n",
      "78.9 61.1 86.0 51.3 74.1 77.8 92.5 46.2 75.1 56.5 63.2 57.1 62.2 70.2 113.2 76.4 109.6 74.1 \n",
      "86.2 76.0 78.8 59.5 53.9 69.8 104.2 101.6 60.1 108.3 84.8 70.8 47.3 72.4 66.7 45.6\n",
      "\"\"\"\n",
      "\n",
      "p5 = np.array(map(float, p5_raw.strip().split()))"
     ],
     "language": "python",
     "metadata": {},
     "outputs": [],
     "prompt_number": 5
    },
    {
     "cell_type": "code",
     "collapsed": false,
     "input": [
      "plt.hist(p5)\n",
      "plt.show()"
     ],
     "language": "python",
     "metadata": {},
     "outputs": [
      {
       "metadata": {},
       "output_type": "display_data",
       "png": "[encoded data removed]",
       "text": [
        "<matplotlib.figure.Figure at 0x1133fdfd0>"
       ]
      }
     ],
     "prompt_number": 6
    },
    {
     "cell_type": "code",
     "collapsed": false,
     "input": [
      "p5_n = len(p5)\n",
      "p5_mean = np.mean(p5)\n",
      "p5_std = 19.28253 #np.std(p5)\n",
      "p5_norm_cdf = lambda x: scipy.stats.norm.cdf(x, loc=p5_mean, scale=p5_std)\n",
      "\n",
      "print p5_n, p5_mean, p5_std"
     ],
     "language": "python",
     "metadata": {},
     "outputs": [
      {
       "output_type": "stream",
       "stream": "stdout",
       "text": [
        " 52 75.0096153846 19.28253\n"
       ]
      }
     ],
     "prompt_number": 8
    },
    {
     "cell_type": "code",
     "collapsed": false,
     "input": [
      "start = 55\n",
      "gap = 15\n",
      "for x in range(start, 125, gap):\n",
      "    print x, x+gap, len(filter(lambda y: x<=y<=x+gap, p5))\n",
      "    "
     ],
     "language": "python",
     "metadata": {},
     "outputs": [
      {
       "output_type": "stream",
       "stream": "stdout",
       "text": [
        "55 70 14\n",
        "70 85 19\n",
        "85 100 3\n",
        "100 115 7\n",
        "115 130 2\n"
       ]
      }
     ],
     "prompt_number": 25
    },
    {
     "cell_type": "code",
     "collapsed": false,
     "input": [
      "counts, edges = np.histogram(p5)\n",
      "counts = np.array([0] + counts.tolist() + [0]) #pad 0 on both sides for tails\n",
      "print edges\n",
      "print counts"
     ],
     "language": "python",
     "metadata": {},
     "outputs": [
      {
       "output_type": "stream",
       "stream": "stdout",
       "text": [
        "[  45.6    53.32   61.04   68.76   76.48   84.2    91.92   99.64  107.36\n",
        "  115.08  122.8 ]\n",
        "[ 0  5  7  8 14  5  3  1  4  3  2  0]\n"
       ]
      }
     ],
     "prompt_number": 188
    },
    {
     "cell_type": "markdown",
     "metadata": {},
     "source": [
      "####Calculate Expected Value Per Bin"
     ]
    },
    {
     "cell_type": "code",
     "collapsed": false,
     "input": [
      "b0 = p5_norm_cdf(edges[0])\n",
      "b1_10 = [p5_norm_cdf(edges[x]) - p5_norm_cdf(edges[x - 1]) for x in range(1, len(edges))]\n",
      "b11 = 1 - p5_norm_cdf(edges[-1])\n",
      "\n",
      "print \"BIN 0: -inf - {}:\".format(edges[0]), b0\n",
      "for idx, value in zip(range(1, len(edges)), b1_10):\n",
      "    print \"BIN {}: {} - {}: {}\".format(idx, edges[idx-1], edges[idx], value.round(3))\n",
      "print \"BIN 11: {} - inf:\".format(edges[-1]), b11    \n",
      "    \n",
      "print np.round(b1_10, 3)\n",
      "\n",
      "p5_prob = np.array([b0] + b1_10 + [b11])\n",
      "\n",
      "print \"probabilties per bin:\", p5_prob.round(3)\n",
      "\n",
      "assert sum(p5_prob) - 1 < .01"
     ],
     "language": "python",
     "metadata": {},
     "outputs": [
      {
       "output_type": "stream",
       "stream": "stdout",
       "text": [
        "BIN 0: -inf - 45.6: 0.0636052528038\n",
        "BIN 1: 45.6 - 53.32: 0.067\n",
        "BIN 2: 53.32 - 61.04: 0.104\n",
        "BIN 3: 61.04 - 68.76: 0.139\n",
        "BIN 4: 68.76 - 76.48: 0.157\n",
        "BIN 5: 76.48 - 84.2: 0.153\n",
        "BIN 6: 84.2 - 91.92: 0.127\n",
        "BIN 7: 91.92 - 99.64: 0.09\n",
        "BIN 8: 99.64 - 107.36: 0.054\n",
        "BIN 9: 107.36 - 115.08: 0.028\n",
        "BIN 10: 115.08 - 122.8: 0.012\n",
        "BIN 11: 122.8 - inf: 0.00659811565543\n",
        "[ 0.067  0.104  0.139  0.157  0.153  0.127  0.09   0.054  0.028  0.012]\n",
        "probabilties per bin: [ 0.064  0.067  0.104  0.139  0.157  0.153  0.127  0.09   0.054  0.028\n",
        "  0.012  0.007]\n"
       ]
      }
     ],
     "prompt_number": 189
    },
    {
     "cell_type": "code",
     "collapsed": false,
     "input": [
      "p5_expected = p5_prob * p5_n\n",
      "print \"expected per bin:\", p5_expected.round(3)"
     ],
     "language": "python",
     "metadata": {},
     "outputs": [
      {
       "output_type": "stream",
       "stream": "stdout",
       "text": [
        "expected per bin: [ 3.307  3.47   5.411  7.204  8.188  7.945  6.582  4.654  2.81   1.448\n",
        "  0.637  0.343]\n"
       ]
      }
     ],
     "prompt_number": 190
    },
    {
     "cell_type": "code",
     "collapsed": false,
     "input": [
      "d = ((counts - p5_expected) ** 2) / p5_expected\n",
      "print \"discrepency per bin:\", d.round(3)\n",
      "print \"total discrepency\", sum(d).round(3)"
     ],
     "language": "python",
     "metadata": {},
     "outputs": [
      {
       "output_type": "stream",
       "stream": "stdout",
       "text": [
        "discrepency per bin: [ 3.307  0.675  0.467  0.088  4.125  1.092  1.949  2.869  0.504  1.663\n",
        "  2.915  0.343]\n",
        "total discrepency 19.997\n"
       ]
      }
     ],
     "prompt_number": 194
    },
    {
     "cell_type": "code",
     "collapsed": false,
     "input": [
      "#df = number bins - 1 - number estimated parameters\n",
      "df = len(counts) - 1 - 2\n",
      "print \"df:\", df\n",
      "alpha = 0.05"
     ],
     "language": "python",
     "metadata": {},
     "outputs": [
      {
       "output_type": "stream",
       "stream": "stdout",
       "text": [
        "df: 9\n"
       ]
      }
     ],
     "prompt_number": 197
    },
    {
     "cell_type": "code",
     "collapsed": false,
     "input": [
      "cv = scipy.stats.chi2.ppf(1-alpha, df=df)\n",
      "print \"critical value:\", cv.round(3)"
     ],
     "language": "python",
     "metadata": {},
     "outputs": [
      {
       "output_type": "stream",
       "stream": "stdout",
       "text": [
        "critical value: 16.919\n"
       ]
      }
     ],
     "prompt_number": 198
    },
    {
     "cell_type": "markdown",
     "metadata": {},
     "source": [
      "Because discrepency is bigger than critial value, reject H0"
     ]
    },
    {
     "cell_type": "code",
     "collapsed": false,
     "input": [],
     "language": "python",
     "metadata": {},
     "outputs": [],
     "prompt_number": 193
    }
   ],
   "metadata": {}
  }
 ]
}