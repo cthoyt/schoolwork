{
 "metadata": {
  "name": "",
  "signature": "sha256:7f7d8077c4cb720a0f373b7dc0cc258c3205b471f567a6bbc62122f8cb0ff19a"
 },
 "nbformat": 3,
 "nbformat_minor": 0,
 "worksheets": [
  {
   "cells": [
    {
     "cell_type": "markdown",
     "metadata": {},
     "source": [
      "##Chem Bio Lab 4\n",
      "Charlie Hope Olivia"
     ]
    },
    {
     "cell_type": "code",
     "collapsed": false,
     "input": [
      "unmutated=\"\"\"\n",
      "atgggacttaatgataataaagcaggaatggaaggattagataaagagaaaattaacaaaattata\n",
      "atggaagccacgaaggggtccagattttatggaaatgagctcaagaaagaaaagcaagtc\n",
      "aaccaacgaattgaaaatatgatgcaacaaaaagctcaaatcaccagccaacagctaaaa\n",
      "aaagcacaattacaggttgacagatttgcaatggaattagaacaaagccgaaatttgagc\n",
      "aataccatagtgcacattgacatggatgctttctatgcagctgtagaaatgagggacaat\n",
      "Ccagaattgaaggataaacccattgctgtaggatcaatgagtatgctgtctacttcaaat\n",
      "taccatgcaaggagatttggtgttcgtgcagccatgccaggatttattgctaagaggctg\n",
      "tgcccacaacttataatagtgccccccaactttgacaaataccgagctgtgagtaaagag\n",
      "gttaaggaaatacttgctgattatgatcccaatTTTatggccatgagtcttgatgaagcc\n",
      "tacttgaatataacaaagcacttagaagaaagacaaaattggcctgaggataaaagaagg\n",
      "tatttcatcaaaatgggaagctctgtagaaaatgataatccaggaaaggaagttaataaa\n",
      "ctgagtgagcatgaacgatccatctctccactactttttgaagagagtccttctgatgtg\n",
      "cagcccccaggagatcctttccaagtgaactttgaagaacaaaacaatcctcaaatactc\n",
      "caaaactcagttgtttttggaacatcagcccaggaagtggtaaaggaaattcgtttcaga\n",
      "attgagcagaaaacaacactgacagctagtgcaggcattgccccaaatacaatgttagca\n",
      "aaagtatgcagtgataagaataaaccaaatggacaataccaaattcttcccaatagacaa\n",
      "gctgtgatggacttcatcaaggatttacccattagaaaggtttctggaataggaaaagtt\n",
      "acagaaaaaatgttaaaggcccttggaattattacatgtacagaactttaccaacagagg\n",
      "Gcattgctttctctccttttctctgaaacaacttggcattatttccttcatatctccttg\n",
      "ggtctaggttcaacacacctgacgagggatggagagaggaaaagtatgagcgttgagagg\n",
      "acattcagtgagataaataaagcggaagagcaatacagcctatgtcaagaactttgcagt\n",
      "gagcttgctcaggatctacagaaagaaagacttaagggtagaactgttaccattaagttg\n",
      "aagaatgtgaattttgaagtaaaaactcgtgcatctacagtttcatctgttgtttctact\n",
      "gcagaagaaatatttgccattgctaaggaattgctaaaaacagaaattgatgctgatttt\n",
      "ccacatcccttgagattaaggcttatgggtgttcggatatctagttttcccaatgaagag\n",
      "Gacaggaaacaccaacaa\n",
      "\"\"\""
     ],
     "language": "python",
     "metadata": {},
     "outputs": [],
     "prompt_number": 1
    },
    {
     "cell_type": "markdown",
     "metadata": {},
     "source": [
      "Introduce our mutation, F129A"
     ]
    },
    {
     "cell_type": "code",
     "collapsed": false,
     "input": [
      "mutated=\"\"\"\n",
      "atgggacttaatgataataaagcaggaatggaaggattagataaagagaaaattaacaaaattata\n",
      "atggaagccacgaaggggtccagattttatggaaatgagctcaagaaagaaaagcaagtc\n",
      "aaccaacgaattgaaaatatgatgcaacaaaaagctcaaatcaccagccaacagctaaaa\n",
      "aaagcacaattacaggttgacagatttgcaatggaattagaacaaagccgaaatttgagc\n",
      "aataccatagtgcacattgacatggatgctttctatgcagctgtagaaatgagggacaat\n",
      "Ccagaattgaaggataaacccattgctgtaggatcaatgagtatgctgtctacttcaaat\n",
      "taccatgcaaggagatttggtgttcgtgcagccatgccaggatttattgctaagaggctg\n",
      "tgc cca caa ctt ata ata gtg ccc ccc aac ttt gac aaa tac cga gct gtg agt aaa gag\n",
      "gtt aag gaa ata ctt gct gat tat gat ccc aat GCT atg gcc atg agt ctt gat gaa gcc\n",
      "tac ttg aat ata aca aag cac tta gaa gaa aga caa aat tgg cct gag gat aaa aga agg\n",
      "tatttcatcaaaatgggaagctctgtagaaaatgataatccaggaaaggaagttaataaa\n",
      "ctgagtgagcatgaacgatccatctctccactactttttgaagagagtccttctgatgtg\n",
      "cagcccccaggagatcctttccaagtgaactttgaagaacaaaacaatcctcaaatactc\n",
      "caaaactcagttgtttttggaacatcagcccaggaagtggtaaaggaaattcgtttcaga\n",
      "attgagcagaaaacaacactgacagctagtgcaggcattgccccaaatacaatgttagca\n",
      "aaagtatgcagtgataagaataaaccaaatggacaataccaaattcttcccaatagacaa\n",
      "gctgtgatggacttcatcaaggatttacccattagaaaggtttctggaataggaaaagtt\n",
      "acagaaaaaatgttaaaggcccttggaattattacatgtacagaactttaccaacagagg\n",
      "Gcattgctttctctccttttctctgaaacaacttggcattatttccttcatatctccttg\n",
      "ggtctaggttcaacacacctgacgagggatggagagaggaaaagtatgagcgttgagagg\n",
      "acattcagtgagataaataaagcggaagagcaatacagcctatgtcaagaactttgcagt\n",
      "gagcttgctcaggatctacagaaagaaagacttaagggtagaactgttaccattaagttg\n",
      "aagaatgtgaattttgaagtaaaaactcgtgcatctacagtttcatctgttgtttctact\n",
      "gcagaagaaatatttgccattgctaaggaattgctaaaaacagaaattgatgctgatttt\n",
      "ccacatcccttgagattaaggcttatgggtgttcggatatctagttttcccaatgaagag\n",
      "Gacaggaaacaccaacaa\n",
      "\"\"\""
     ],
     "language": "python",
     "metadata": {},
     "outputs": [],
     "prompt_number": 2
    },
    {
     "cell_type": "markdown",
     "metadata": {},
     "source": [
      "We're really only interested in the region around the F129A mutation since we're building a primer, so just keep about 30 nucleotides in both directions. (we chose 30 since nicole's example was 30 long)"
     ]
    },
    {
     "cell_type": "code",
     "collapsed": false,
     "input": [
      "cut=\"\"\"\n",
      "aag gaa ata ctt gct gat tat gat ccc aat GCT atg gcc atg agt ctt gat gaa gcc tac ttg \n",
      "\"\"\""
     ],
     "language": "python",
     "metadata": {},
     "outputs": [],
     "prompt_number": 3
    },
    {
     "cell_type": "markdown",
     "metadata": {},
     "source": [
      "Define our function to calculate the melting point"
     ]
    },
    {
     "cell_type": "code",
     "collapsed": false,
     "input": [
      "def tm(s, mismatches=2):\n",
      "    \"\"\"calculate melting point of a primer sequence\"\"\"\n",
      "    return 4 * (s.count(\"g\") + s.count(\"c\")) + 2 * (s.count(\"a\") + s.count(\"t\")) - 4 * mismatches"
     ],
     "language": "python",
     "metadata": {},
     "outputs": [],
     "prompt_number": 4
    },
    {
     "cell_type": "markdown",
     "metadata": {},
     "source": [
      "Print out all possible good primers"
     ]
    },
    {
     "cell_type": "code",
     "collapsed": false,
     "input": [
      "fsize = 38\n",
      "\n",
      "for x in range(len(cut) - fsize):\n",
      "    frame = cut[x: x + fsize].strip()\n",
      "    t = tm(frame.lower())\n",
      "    \n",
      "    if \"GCT\" in frame and 68 < t < 76 and (frame.startswith(\"g\") or frame.startswith(\"c\")):\n",
      "        print(frame.replace(\" \", \"\"), t)"
     ],
     "language": "python",
     "metadata": {},
     "outputs": [
      {
       "output_type": "stream",
       "stream": "stdout",
       "text": [
        "('cttgctgattatgatcccaatGCTatgg', 72)\n",
        "('gctgattatgatcccaatGCTatggcca', 74)\n",
        "('gattatgatcccaatGCTatggccatga', 72)\n",
        "('caatGCTatggccatgagtcttgatgaa', 72)\n"
       ]
      }
     ],
     "prompt_number": 6
    },
    {
     "cell_type": "code",
     "collapsed": false,
     "input": [
      "print(\"winner!\", 'gattatgatcccaatGCTatggccatg', 70)"
     ],
     "language": "python",
     "metadata": {},
     "outputs": [
      {
       "output_type": "stream",
       "stream": "stdout",
       "text": [
        "('winner!', 'gattatgatcccaatGCTatggccatg', 70)\n"
       ]
      }
     ],
     "prompt_number": 30
    },
    {
     "cell_type": "code",
     "collapsed": false,
     "input": [],
     "language": "python",
     "metadata": {},
     "outputs": [],
     "prompt_number": 30
    }
   ],
   "metadata": {}
  }
 ]
}